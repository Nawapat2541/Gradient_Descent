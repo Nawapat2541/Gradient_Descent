{
  "nbformat": 4,
  "nbformat_minor": 0,
  "metadata": {
    "colab": {
      "name": "Gradient_Descent.ipynb",
      "provenance": [],
      "collapsed_sections": [],
      "authorship_tag": "ABX9TyPMsaX41McRO0i6vJGUcpoq",
      "include_colab_link": true
    },
    "kernelspec": {
      "name": "python3",
      "display_name": "Python 3"
    },
    "language_info": {
      "name": "python"
    }
  },
  "cells": [
    {
      "cell_type": "markdown",
      "metadata": {
        "id": "view-in-github",
        "colab_type": "text"
      },
      "source": [
        "<a href=\"https://colab.research.google.com/github/Nawapat2541/Gradient_Descent/blob/main/Gradient_Descent.ipynb\" target=\"_parent\"><img src=\"https://colab.research.google.com/assets/colab-badge.svg\" alt=\"Open In Colab\"/></a>"
      ]
    },
    {
      "cell_type": "code",
      "metadata": {
        "id": "V49q8UYFj_Zp"
      },
      "source": [
        "def derivative(input_fuction, x):\n",
        "  '''\n",
        "  return derivative of function of x\n",
        "  '''\n",
        "  h = 0.0001\n",
        "  return (input_fuction(x + h) - input_fuction(x)) / h\n",
        "\n",
        "def pleum_optimizer(input_function, next_x, optimizer, previous_deri):\n",
        "  current_deri = derivative(input_function, next_x)\n",
        "  print(f\"previous_deri = {previous_deri} , current_deri = {current_deri}\")\n",
        "  return optimizer * (1 + current_deri/previous_deri)\n",
        "\n",
        "def find_local_min(input_function, x0, max_round, optimizer):\n",
        "  '''\n",
        "  find x where x is give a minimum value of function\n",
        "  '''\n",
        "  loss = []\n",
        "  current_x = x0\n",
        "  first_deri = derivative(input_function,current_x)\n",
        "  round = 1\n",
        "  while round < max_round:\n",
        "    next_x = current_x - optimizer * derivative(input_function , current_x)\n",
        "    loss.append(next_x)\n",
        "    if (next_x == current_x):\n",
        "      print(\"x is not change\")\n",
        "      return loss\n",
        "    \n",
        "    # change optimizer\n",
        "    if round == 1:\n",
        "      optimizer = pleum_optimizer(input_function, next_x, optimizer, first_deri)\n",
        "    else:\n",
        "      optimizer = pleum_optimizer(input_function, next_x, optimizer, previous_deri)\n",
        "\n",
        "    # change x\n",
        "    current_x = next_x\n",
        "\n",
        "    previous_deri = derivative(input_function, next_x)\n",
        "\n",
        "    print(f\"learnign_rate = {optimizer}\")\n",
        "    print(f\"evaluate = {derivative(input_function,current_x)}\")\n",
        "    print(f\"round = {round}, current_x = {current_x}\")\n",
        "    print(\"--------------------------------------------------------------------\")\n",
        "    round = round + 1\n",
        "\n",
        "  return loss"
      ],
      "execution_count": 113,
      "outputs": []
    },
    {
      "cell_type": "code",
      "metadata": {
        "id": "CvN58gijlFgA",
        "colab": {
          "base_uri": "https://localhost:8080/",
          "height": 1000
        },
        "outputId": "3ad2aa1b-6ff1-4e77-9833-751e5328353f"
      },
      "source": [
        "objective_function = lambda x: (x-3)**2 - 2\n",
        "x = find_local_min(objective_function, -8, 1000, 0.01)\n",
        "print(f\"Local minimum = {x[-1]}\")\n",
        "print(f\"derivative(function, min) = {derivative(objective_function, x[-1])}\")\n",
        "\n",
        "import matplotlib.pyplot as plt\n",
        "\n",
        "plt.plot(x)"
      ],
      "execution_count": 114,
      "outputs": [
        {
          "output_type": "stream",
          "name": "stdout",
          "text": [
            "previous_deri = -21.999899999940453 , current_deri = -21.55990199995017\n",
            "learnign_rate = 0.019800000000003877\n",
            "evaluate = -21.55990199995017\n",
            "round = 1, current_x = -7.7800010000005955\n",
            "--------------------------------------------------------------------\n",
            "previous_deri = -21.55990199995017 , current_deri = -20.70612988077869\n",
            "learnign_rate = 0.038815920000031985\n",
            "evaluate = -20.70612988077869\n",
            "round = 2, current_x = -7.353114940401499\n",
            "--------------------------------------------------------------------\n",
            "previous_deri = -20.70612988077869 , current_deri = -19.09867491889372\n",
            "learnign_rate = 0.07461848870924154\n",
            "evaluate = -19.09867491889372\n",
            "round = 3, current_x = -6.549387459438921\n",
            "--------------------------------------------------------------------\n",
            "previous_deri = -19.09867491889372 , current_deri = -16.248446401334604\n",
            "learnign_rate = 0.13810113970411653\n",
            "evaluate = -16.248446401334604\n",
            "round = 4, current_x = -5.124273200641976\n",
            "--------------------------------------------------------------------\n",
            "previous_deri = -16.248446401334604 , current_deri = -11.760588468376909\n",
            "learnign_rate = 0.23805842983251538\n",
            "evaluate = -11.760588468376909\n",
            "round = 5, current_x = -2.880344234196416\n",
            "--------------------------------------------------------------------\n",
            "previous_deri = -11.760588468376909 , current_deri = -6.161174019041482\n",
            "learnign_rate = 0.3627732276372146\n",
            "evaluate = -6.161174019041482\n",
            "round = 6, current_x = -0.08063700950822206\n",
            "--------------------------------------------------------------------\n",
            "previous_deri = -6.161174019041482 , current_deri = -1.6909560491762399\n",
            "learnign_rate = 0.4623376258925606\n",
            "evaluate = -1.6909560491762399\n",
            "round = 7, current_x = 2.154471975414006\n",
            "--------------------------------------------------------------------\n",
            "previous_deri = -1.6909560491762399 , current_deri = -0.1273708386428929\n",
            "learnign_rate = 0.4971630911521618\n",
            "evaluate = -0.1273708386428929\n",
            "round = 8, current_x = 2.936264580678813\n",
            "--------------------------------------------------------------------\n",
            "previous_deri = -0.1273708386428929 , current_deri = -0.0007226789167091852\n",
            "learnign_rate = 0.49998390389053876\n",
            "evaluate = -0.0007226789167091852\n",
            "round = 9, current_x = 2.999588660541157\n",
            "--------------------------------------------------------------------\n",
            "previous_deri = -0.0007226789167091852 , current_deri = -2.326583370404478e-08\n",
            "learnign_rate = 0.5000000003091469\n",
            "evaluate = -2.326583370404478e-08\n",
            "round = 10, current_x = 2.9999499883671925\n",
            "--------------------------------------------------------------------\n",
            "previous_deri = -2.326583370404478e-08 , current_deri = 0.0\n",
            "learnign_rate = 0.5000000003091469\n",
            "evaluate = 0.0\n",
            "round = 11, current_x = 2.9999500000001094\n",
            "--------------------------------------------------------------------\n",
            "x is not change\n",
            "Local minimum = 2.9999500000001094\n",
            "derivative(function, min) = 0.0\n"
          ]
        },
        {
          "output_type": "execute_result",
          "data": {
            "text/plain": [
              "[<matplotlib.lines.Line2D at 0x7f19acc93450>]"
            ]
          },
          "metadata": {},
          "execution_count": 114
        },
        {
          "output_type": "display_data",
          "data": {
            "image/png": "[encoded data removed]",
            "text/plain": [
              "<Figure size 432x288 with 1 Axes>"
            ]
          },
          "metadata": {
            "needs_background": "light"
          }
        }
      ]
    }
  ]
}